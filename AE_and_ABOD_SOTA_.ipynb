{
 "cells": [
  {
   "cell_type": "code",
   "execution_count": null,
   "id": "8cac3309-d5c2-4cfe-a368-ce0ec7ce9404",
   "metadata": {
    "execution": {
     "iopub.execute_input": "2023-04-04T14:11:27.000716Z",
     "iopub.status.busy": "2023-04-04T14:11:26.999950Z",
     "iopub.status.idle": "2023-04-04T14:11:29.544308Z",
     "shell.execute_reply": "2023-04-04T14:11:29.543418Z",
     "shell.execute_reply.started": "2023-04-04T14:11:27.000694Z"
    }
   },
   "outputs": [],
   "source": [
    "!pip install pyod"
   ]
  },
  {
   "cell_type": "markdown",
   "id": "d8f55cd4-1e10-4c8e-95c5-65d14f3478fb",
   "metadata": {},
   "source": [
    "# Simple Autoencoder를 사용한 비지도 이상치 탐지\n",
    "\n",
    "정상 데이터를 encoder에 학습시키고, reconstruction error가 크면 anomaly로 판단하는 방법이다."
   ]
  },
  {
   "cell_type": "code",
   "execution_count": 2,
   "id": "2a7b00c5-7012-4e6d-8b8f-88f599151167",
   "metadata": {
    "execution": {
     "iopub.execute_input": "2023-04-04T14:11:29.546280Z",
     "iopub.status.busy": "2023-04-04T14:11:29.546063Z",
     "iopub.status.idle": "2023-04-04T14:11:31.218868Z",
     "shell.execute_reply": "2023-04-04T14:11:31.218359Z",
     "shell.execute_reply.started": "2023-04-04T14:11:29.546261Z"
    }
   },
   "outputs": [],
   "source": [
    "import pandas as pd\n",
    "from sklearn.preprocessing import StandardScaler\n",
    "import torch\n",
    "import torch.nn as nn\n",
    "import torch.nn.functional as F\n",
    "from torch.utils.data import Dataset, DataLoader\n",
    "from torch import optim\n",
    "import time\n",
    "import os\n",
    "import random\n",
    "from collections import Counter\n",
    "import numpy as np\n",
    "from pyod.models.abod import ABOD"
   ]
  },
  {
   "cell_type": "markdown",
   "id": "f317fe4d-42fc-44a6-bc38-818431ea13f6",
   "metadata": {},
   "source": [
    "## 재현성을 위한 seed"
   ]
  },
  {
   "cell_type": "code",
   "execution_count": 3,
   "id": "172df56c-95e9-4932-8d15-d28425fb61df",
   "metadata": {
    "execution": {
     "iopub.execute_input": "2023-04-04T14:11:31.220196Z",
     "iopub.status.busy": "2023-04-04T14:11:31.219544Z",
     "iopub.status.idle": "2023-04-04T14:11:31.225110Z",
     "shell.execute_reply": "2023-04-04T14:11:31.224667Z",
     "shell.execute_reply.started": "2023-04-04T14:11:31.220175Z"
    }
   },
   "outputs": [],
   "source": [
    "def seed_everything(seed):\n",
    "    random.seed(seed)\n",
    "    np.random.seed(seed)\n",
    "    os.environ[\"PYTHONHASHSEED\"] = str(seed)\n",
    "    torch.manual_seed(seed)\n",
    "    torch.cuda.manual_seed(seed)  \n",
    "    torch.backends.cudnn.deterministic = True  \n",
    "    torch.backends.cudnn.benchmark = True\n",
    "    \n",
    "seed_everything(42)"
   ]
  },
  {
   "cell_type": "code",
   "execution_count": 4,
   "id": "359ab523-7d81-4bfb-9900-812268d426a5",
   "metadata": {
    "execution": {
     "iopub.execute_input": "2023-04-04T14:11:31.227083Z",
     "iopub.status.busy": "2023-04-04T14:11:31.226265Z",
     "iopub.status.idle": "2023-04-04T14:11:31.248422Z",
     "shell.execute_reply": "2023-04-04T14:11:31.247911Z",
     "shell.execute_reply.started": "2023-04-04T14:11:31.227058Z"
    }
   },
   "outputs": [],
   "source": [
    "train_df = pd.read_csv('./train_data.csv')\n",
    "test_df = pd.read_csv('./test_data.csv')"
   ]
  },
  {
   "cell_type": "code",
   "execution_count": 5,
   "id": "27a6f681-02ed-4afa-8266-30a71d05fab8",
   "metadata": {
    "execution": {
     "iopub.execute_input": "2023-04-04T14:11:31.249570Z",
     "iopub.status.busy": "2023-04-04T14:11:31.249084Z",
     "iopub.status.idle": "2023-04-04T14:11:31.261162Z",
     "shell.execute_reply": "2023-04-04T14:11:31.260656Z",
     "shell.execute_reply.started": "2023-04-04T14:11:31.249551Z"
    }
   },
   "outputs": [
    {
     "data": {
      "text/html": [
       "<div>\n",
       "<style scoped>\n",
       "    .dataframe tbody tr th:only-of-type {\n",
       "        vertical-align: middle;\n",
       "    }\n",
       "\n",
       "    .dataframe tbody tr th {\n",
       "        vertical-align: top;\n",
       "    }\n",
       "\n",
       "    .dataframe thead th {\n",
       "        text-align: right;\n",
       "    }\n",
       "</style>\n",
       "<table border=\"1\" class=\"dataframe\">\n",
       "  <thead>\n",
       "    <tr style=\"text-align: right;\">\n",
       "      <th></th>\n",
       "      <th>air_inflow</th>\n",
       "      <th>air_end_temp</th>\n",
       "      <th>out_pressure</th>\n",
       "      <th>motor_current</th>\n",
       "      <th>motor_rpm</th>\n",
       "      <th>motor_temp</th>\n",
       "      <th>motor_vibe</th>\n",
       "      <th>type</th>\n",
       "    </tr>\n",
       "  </thead>\n",
       "  <tbody>\n",
       "    <tr>\n",
       "      <th>0</th>\n",
       "      <td>1.59</td>\n",
       "      <td>41.00</td>\n",
       "      <td>0.7</td>\n",
       "      <td>20.53</td>\n",
       "      <td>1680.0</td>\n",
       "      <td>58.67</td>\n",
       "      <td>2.93</td>\n",
       "      <td>0</td>\n",
       "    </tr>\n",
       "    <tr>\n",
       "      <th>1</th>\n",
       "      <td>2.97</td>\n",
       "      <td>59.28</td>\n",
       "      <td>0.7</td>\n",
       "      <td>38.40</td>\n",
       "      <td>3142.0</td>\n",
       "      <td>74.91</td>\n",
       "      <td>3.75</td>\n",
       "      <td>0</td>\n",
       "    </tr>\n",
       "    <tr>\n",
       "      <th>2</th>\n",
       "      <td>1.91</td>\n",
       "      <td>45.29</td>\n",
       "      <td>0.7</td>\n",
       "      <td>24.73</td>\n",
       "      <td>2023.0</td>\n",
       "      <td>62.48</td>\n",
       "      <td>3.12</td>\n",
       "      <td>0</td>\n",
       "    </tr>\n",
       "    <tr>\n",
       "      <th>3</th>\n",
       "      <td>2.37</td>\n",
       "      <td>51.33</td>\n",
       "      <td>0.7</td>\n",
       "      <td>30.63</td>\n",
       "      <td>2506.0</td>\n",
       "      <td>67.84</td>\n",
       "      <td>3.39</td>\n",
       "      <td>0</td>\n",
       "    </tr>\n",
       "    <tr>\n",
       "      <th>4</th>\n",
       "      <td>1.90</td>\n",
       "      <td>45.21</td>\n",
       "      <td>0.7</td>\n",
       "      <td>24.65</td>\n",
       "      <td>2017.0</td>\n",
       "      <td>62.41</td>\n",
       "      <td>3.12</td>\n",
       "      <td>0</td>\n",
       "    </tr>\n",
       "  </tbody>\n",
       "</table>\n",
       "</div>"
      ],
      "text/plain": [
       "   air_inflow  air_end_temp  out_pressure  motor_current  motor_rpm  \\\n",
       "0        1.59         41.00           0.7          20.53     1680.0   \n",
       "1        2.97         59.28           0.7          38.40     3142.0   \n",
       "2        1.91         45.29           0.7          24.73     2023.0   \n",
       "3        2.37         51.33           0.7          30.63     2506.0   \n",
       "4        1.90         45.21           0.7          24.65     2017.0   \n",
       "\n",
       "   motor_temp  motor_vibe  type  \n",
       "0       58.67        2.93     0  \n",
       "1       74.91        3.75     0  \n",
       "2       62.48        3.12     0  \n",
       "3       67.84        3.39     0  \n",
       "4       62.41        3.12     0  "
      ]
     },
     "execution_count": 5,
     "metadata": {},
     "output_type": "execute_result"
    }
   ],
   "source": [
    "train_df.head()"
   ]
  },
  {
   "cell_type": "code",
   "execution_count": 6,
   "id": "905ea65f-0045-44d5-8e72-a44ac8637939",
   "metadata": {
    "execution": {
     "iopub.execute_input": "2023-04-04T14:11:31.262350Z",
     "iopub.status.busy": "2023-04-04T14:11:31.261888Z",
     "iopub.status.idle": "2023-04-04T14:11:31.270911Z",
     "shell.execute_reply": "2023-04-04T14:11:31.270261Z",
     "shell.execute_reply.started": "2023-04-04T14:11:31.262332Z"
    }
   },
   "outputs": [
    {
     "data": {
      "text/html": [
       "<div>\n",
       "<style scoped>\n",
       "    .dataframe tbody tr th:only-of-type {\n",
       "        vertical-align: middle;\n",
       "    }\n",
       "\n",
       "    .dataframe tbody tr th {\n",
       "        vertical-align: top;\n",
       "    }\n",
       "\n",
       "    .dataframe thead th {\n",
       "        text-align: right;\n",
       "    }\n",
       "</style>\n",
       "<table border=\"1\" class=\"dataframe\">\n",
       "  <thead>\n",
       "    <tr style=\"text-align: right;\">\n",
       "      <th></th>\n",
       "      <th>air_inflow</th>\n",
       "      <th>air_end_temp</th>\n",
       "      <th>out_pressure</th>\n",
       "      <th>motor_current</th>\n",
       "      <th>motor_rpm</th>\n",
       "      <th>motor_temp</th>\n",
       "      <th>motor_vibe</th>\n",
       "      <th>type</th>\n",
       "    </tr>\n",
       "  </thead>\n",
       "  <tbody>\n",
       "    <tr>\n",
       "      <th>0</th>\n",
       "      <td>2.51</td>\n",
       "      <td>53.28</td>\n",
       "      <td>0.7</td>\n",
       "      <td>32.54</td>\n",
       "      <td>2662.0</td>\n",
       "      <td>69.58</td>\n",
       "      <td>3.48</td>\n",
       "      <td>0</td>\n",
       "    </tr>\n",
       "    <tr>\n",
       "      <th>1</th>\n",
       "      <td>2.66</td>\n",
       "      <td>55.24</td>\n",
       "      <td>0.7</td>\n",
       "      <td>34.45</td>\n",
       "      <td>2819.0</td>\n",
       "      <td>71.32</td>\n",
       "      <td>3.57</td>\n",
       "      <td>0</td>\n",
       "    </tr>\n",
       "    <tr>\n",
       "      <th>2</th>\n",
       "      <td>1.72</td>\n",
       "      <td>42.74</td>\n",
       "      <td>0.7</td>\n",
       "      <td>22.23</td>\n",
       "      <td>1819.0</td>\n",
       "      <td>60.21</td>\n",
       "      <td>3.01</td>\n",
       "      <td>0</td>\n",
       "    </tr>\n",
       "    <tr>\n",
       "      <th>3</th>\n",
       "      <td>2.20</td>\n",
       "      <td>49.15</td>\n",
       "      <td>0.7</td>\n",
       "      <td>28.50</td>\n",
       "      <td>2332.0</td>\n",
       "      <td>65.91</td>\n",
       "      <td>3.30</td>\n",
       "      <td>0</td>\n",
       "    </tr>\n",
       "    <tr>\n",
       "      <th>4</th>\n",
       "      <td>2.06</td>\n",
       "      <td>47.28</td>\n",
       "      <td>0.7</td>\n",
       "      <td>26.67</td>\n",
       "      <td>2182.0</td>\n",
       "      <td>64.24</td>\n",
       "      <td>3.21</td>\n",
       "      <td>0</td>\n",
       "    </tr>\n",
       "  </tbody>\n",
       "</table>\n",
       "</div>"
      ],
      "text/plain": [
       "   air_inflow  air_end_temp  out_pressure  motor_current  motor_rpm  \\\n",
       "0        2.51         53.28           0.7          32.54     2662.0   \n",
       "1        2.66         55.24           0.7          34.45     2819.0   \n",
       "2        1.72         42.74           0.7          22.23     1819.0   \n",
       "3        2.20         49.15           0.7          28.50     2332.0   \n",
       "4        2.06         47.28           0.7          26.67     2182.0   \n",
       "\n",
       "   motor_temp  motor_vibe  type  \n",
       "0       69.58        3.48     0  \n",
       "1       71.32        3.57     0  \n",
       "2       60.21        3.01     0  \n",
       "3       65.91        3.30     0  \n",
       "4       64.24        3.21     0  "
      ]
     },
     "execution_count": 6,
     "metadata": {},
     "output_type": "execute_result"
    }
   ],
   "source": [
    "test_df.head()"
   ]
  },
  {
   "cell_type": "markdown",
   "id": "6dc1ab7f-70e6-4eec-94a0-c1539245012c",
   "metadata": {},
   "source": [
    "## Dataset 정의"
   ]
  },
  {
   "cell_type": "code",
   "execution_count": 7,
   "id": "1cfe32df-83b8-4f3f-8228-83bf87f93466",
   "metadata": {
    "execution": {
     "iopub.execute_input": "2023-04-04T14:11:31.271971Z",
     "iopub.status.busy": "2023-04-04T14:11:31.271781Z",
     "iopub.status.idle": "2023-04-04T14:11:31.276043Z",
     "shell.execute_reply": "2023-04-04T14:11:31.275484Z",
     "shell.execute_reply.started": "2023-04-04T14:11:31.271954Z"
    }
   },
   "outputs": [],
   "source": [
    "class US_Dataset(Dataset):\n",
    "    def __init__(self, data):\n",
    "        self.df = data\n",
    "\n",
    "    def __getitem__(self, idx):\n",
    "        x = self.df[idx]\n",
    "        \n",
    "        return torch.FloatTensor(x)\n",
    "\n",
    "    def __len__(self):\n",
    "        return len(self.df)"
   ]
  },
  {
   "cell_type": "markdown",
   "id": "3ee1706e-ea2d-4acb-a7f1-27c69b15da92",
   "metadata": {
    "execution": {
     "iopub.execute_input": "2023-04-04T11:26:35.239982Z",
     "iopub.status.busy": "2023-04-04T11:26:35.239044Z",
     "iopub.status.idle": "2023-04-04T11:26:35.242924Z",
     "shell.execute_reply": "2023-04-04T11:26:35.242225Z",
     "shell.execute_reply.started": "2023-04-04T11:26:35.239947Z"
    }
   },
   "source": [
    "## train, eval, get label 함수 정의"
   ]
  },
  {
   "cell_type": "code",
   "execution_count": 8,
   "id": "b0963538-4c8d-435f-8f0e-2cdee800610b",
   "metadata": {
    "execution": {
     "iopub.execute_input": "2023-04-04T14:11:31.277028Z",
     "iopub.status.busy": "2023-04-04T14:11:31.276844Z",
     "iopub.status.idle": "2023-04-04T14:11:31.282731Z",
     "shell.execute_reply": "2023-04-04T14:11:31.282133Z",
     "shell.execute_reply.started": "2023-04-04T14:11:31.277012Z"
    }
   },
   "outputs": [],
   "source": [
    "def train(model, train_loader, optimizer):\n",
    "    \n",
    "    model.train()\n",
    "    \n",
    "    running_loss = 0.0\n",
    "    len_data = len(train_loader.dataset)\n",
    "    \n",
    "    for x in train_loader:\n",
    "        x = x.cuda()\n",
    "        \n",
    "        x_hat, _ = model(x)\n",
    "        \n",
    "        # loss between original and reconstruction\n",
    "        loss = loss_func(x, x_hat)\n",
    "        \n",
    "        opt.zero_grad()\n",
    "        loss.backward()\n",
    "        opt.step()\n",
    "        \n",
    "        running_loss += loss.item()\n",
    "    \n",
    "    return running_loss/len_data\n",
    "\n",
    "def eval(model, dataloader):\n",
    "    scores = []\n",
    "    model.eval()\n",
    "    print('Testing...')\n",
    "    with torch.no_grad():\n",
    "        for x in dataloader:\n",
    "            x = x.cuda()\n",
    "            x_hat, z = model(x)\n",
    "            score = torch.mean( torch.abs(x - x_hat) , axis=1)\n",
    "            scores.extend(score.cpu().numpy())\n",
    "            # print(score.shape)\n",
    "\n",
    "    return np.array(scores), z\n",
    "\n",
    "def get_pred_label(model_pred, t):\n",
    "    # (0:정상, 1:불량)로 Label 변환\n",
    "    model_pred = np.where(model_pred <= t, 0, model_pred)\n",
    "    model_pred = np.where(model_pred > t, 1, model_pred)\n",
    "    return model_pred"
   ]
  },
  {
   "attachments": {},
   "cell_type": "markdown",
   "id": "9ee6dada-4cf0-4e6c-9841-79cd5e9a8c8d",
   "metadata": {},
   "source": [
    "## Basic Autoencoder 구조 정의\n",
    "7->4->2 / 2->4->7로 이어지는 autoencoder 사용\n",
    "\n",
    "feature를 축소시키고 다시 늘리는 bottleneck 방식 사용"
   ]
  },
  {
   "cell_type": "code",
   "execution_count": 9,
   "id": "870cd48f-a369-4118-9fcb-5fb459b04b26",
   "metadata": {
    "execution": {
     "iopub.execute_input": "2023-04-04T14:11:31.283857Z",
     "iopub.status.busy": "2023-04-04T14:11:31.283681Z",
     "iopub.status.idle": "2023-04-04T14:11:31.288797Z",
     "shell.execute_reply": "2023-04-04T14:11:31.288203Z",
     "shell.execute_reply.started": "2023-04-04T14:11:31.283842Z"
    }
   },
   "outputs": [],
   "source": [
    "class AutoEncoder(nn.Module):\n",
    "    def __init__(self):\n",
    "        super(AutoEncoder, self).__init__()\n",
    "    \n",
    "        self.fc1 = nn.Linear(7, 4)\n",
    "        self.fc2 = nn.Linear(4, 2)\n",
    "\n",
    "        self.defc1 = nn.Linear(2, 4)\n",
    "        self.defc2 = nn.Linear(4, 7)\n",
    "    \n",
    "    def encoder(self, x):\n",
    "        \n",
    "        x = self.fc1(x)\n",
    "        x = self.fc2(x)\n",
    "\n",
    "        return x\n",
    "    \n",
    "    def decoder(self, x):\n",
    "        \n",
    "        x = self.defc1(x)\n",
    "        x = self.defc2(x)\n",
    "\n",
    "        return x\n",
    "    \n",
    "    def forward(self, x):\n",
    "        \n",
    "        z = self.encoder(x)\n",
    "        x_hat = self.decoder(z)\n",
    "        \n",
    "        return x_hat, z"
   ]
  },
  {
   "cell_type": "markdown",
   "id": "b1592fdd-e01f-4230-9829-81ddb0dbf354",
   "metadata": {},
   "source": [
    "## 모델 학습 및 추론"
   ]
  },
  {
   "cell_type": "code",
   "execution_count": 10,
   "id": "94f55c9f-2166-4357-9843-e4ba775dc967",
   "metadata": {
    "execution": {
     "iopub.execute_input": "2023-04-04T14:11:31.291226Z",
     "iopub.status.busy": "2023-04-04T14:11:31.290728Z",
     "iopub.status.idle": "2023-04-04T14:11:31.293801Z",
     "shell.execute_reply": "2023-04-04T14:11:31.293303Z",
     "shell.execute_reply.started": "2023-04-04T14:11:31.291206Z"
    }
   },
   "outputs": [],
   "source": [
    "Config = {\n",
    "    \"num_epochs\" : 10000,\n",
    "    \"batch_size\" : 256,\n",
    "    \"learning_rate\" : 0.0001,\n",
    "}"
   ]
  },
  {
   "cell_type": "code",
   "execution_count": 11,
   "id": "9c5bbd66-2092-43be-b90f-afe3f8cdd5e8",
   "metadata": {
    "execution": {
     "iopub.execute_input": "2023-04-04T14:11:31.294496Z",
     "iopub.status.busy": "2023-04-04T14:11:31.294346Z",
     "iopub.status.idle": "2023-04-04T14:11:31.305397Z",
     "shell.execute_reply": "2023-04-04T14:11:31.304888Z",
     "shell.execute_reply.started": "2023-04-04T14:11:31.294481Z"
    }
   },
   "outputs": [
    {
     "data": {
      "text/html": [
       "<div>\n",
       "<style scoped>\n",
       "    .dataframe tbody tr th:only-of-type {\n",
       "        vertical-align: middle;\n",
       "    }\n",
       "\n",
       "    .dataframe tbody tr th {\n",
       "        vertical-align: top;\n",
       "    }\n",
       "\n",
       "    .dataframe thead th {\n",
       "        text-align: right;\n",
       "    }\n",
       "</style>\n",
       "<table border=\"1\" class=\"dataframe\">\n",
       "  <thead>\n",
       "    <tr style=\"text-align: right;\">\n",
       "      <th></th>\n",
       "      <th>type</th>\n",
       "      <th>label</th>\n",
       "    </tr>\n",
       "  </thead>\n",
       "  <tbody>\n",
       "    <tr>\n",
       "      <th>0</th>\n",
       "      <td>0</td>\n",
       "      <td>-1</td>\n",
       "    </tr>\n",
       "    <tr>\n",
       "      <th>1</th>\n",
       "      <td>0</td>\n",
       "      <td>-1</td>\n",
       "    </tr>\n",
       "    <tr>\n",
       "      <th>2</th>\n",
       "      <td>0</td>\n",
       "      <td>-1</td>\n",
       "    </tr>\n",
       "    <tr>\n",
       "      <th>3</th>\n",
       "      <td>0</td>\n",
       "      <td>-1</td>\n",
       "    </tr>\n",
       "    <tr>\n",
       "      <th>4</th>\n",
       "      <td>0</td>\n",
       "      <td>-1</td>\n",
       "    </tr>\n",
       "  </tbody>\n",
       "</table>\n",
       "</div>"
      ],
      "text/plain": [
       "   type  label\n",
       "0     0     -1\n",
       "1     0     -1\n",
       "2     0     -1\n",
       "3     0     -1\n",
       "4     0     -1"
      ]
     },
     "execution_count": 11,
     "metadata": {},
     "output_type": "execute_result"
    }
   ],
   "source": [
    "submit = pd.read_csv('./answer_sample.csv')\n",
    "submit.head()"
   ]
  },
  {
   "cell_type": "code",
   "execution_count": null,
   "id": "ac2f8007-e9ae-4218-a554-180904dbb3c5",
   "metadata": {
    "execution": {
     "iopub.execute_input": "2023-04-04T14:11:31.306279Z",
     "iopub.status.busy": "2023-04-04T14:11:31.306097Z"
    }
   },
   "outputs": [
    {
     "name": "stdout",
     "output_type": "stream",
     "text": [
      "attempt 0 th\n",
      "train loss: 0.000008, time: 0.9612 min\n",
      "----------\n",
      "Testing...\n",
      "Testing...\n",
      "Counter({0.0: 1153, 1.0: 143})\n",
      "Counter({0: 1153, 1: 143})\n",
      "Counter({0.0: 1153, 1.0: 143})\n",
      "attempt 1 th\n",
      "train loss: 0.000035, time: 0.8724 min\n",
      "----------\n",
      "Testing...\n",
      "Testing...\n",
      "Counter({0.0: 1107})\n",
      "Counter({0: 1107})\n",
      "Counter({0.0: 1107})\n",
      "attempt 2 th\n",
      "train loss: 0.000018, time: 0.9079 min\n",
      "----------\n",
      "Testing...\n",
      "Testing...\n",
      "Counter({0.0: 1061, 1.0: 37})\n",
      "Counter({0: 1071, 1: 27})\n",
      "Counter({0.0: 1071, 1.0: 27})\n",
      "attempt 3 th\n",
      "train loss: 0.000024, time: 0.8438 min\n",
      "----------\n",
      "Testing...\n",
      "Testing...\n",
      "Counter({0.0: 881, 1.0: 37})\n",
      "Counter({0: 892, 1: 26})\n",
      "Counter({0.0: 892, 1.0: 26})\n",
      "attempt 4 th\n",
      "train loss: 0.000011, time: 0.8791 min\n",
      "----------\n",
      "Testing...\n",
      "Testing...\n",
      "Counter({0.0: 904, 1.0: 14})\n",
      "Counter({0: 905, 1: 13})\n",
      "Counter({0.0: 905, 1.0: 13})\n",
      "attempt 5 th\n",
      "train loss: 0.000006, time: 0.5476 min\n",
      "----------\n",
      "Testing...\n",
      "Testing...\n",
      "Counter({0.0: 712, 1.0: 35})\n",
      "Counter({0: 699, 1: 48})\n",
      "Counter({0.0: 717, 1.0: 30})\n",
      "attempt 6 th\n",
      "train loss: 0.000007, time: 0.5243 min\n",
      "----------\n",
      "Testing...\n",
      "Testing...\n",
      "Counter({0.0: 636, 1.0: 111})\n",
      "Counter({0: 644, 1: 103})\n",
      "Counter({0.0: 646, 1.0: 101})\n",
      "attempt 7 th\n",
      "train loss: 0.000009, time: 0.4578 min\n",
      "----------\n",
      "Testing...\n",
      "Testing...\n",
      "Counter({0.0: 546, 1.0: 12})\n",
      "Counter({0: 552, 1: 6})\n",
      "Counter({0.0: 554, 1.0: 4})\n"
     ]
    }
   ],
   "source": [
    "# num = 설비 번호의 type\n",
    "# 총 0~7의 설비가 있기 때문에 설비마다 따로 학습 및 추론 진행\n",
    "\n",
    "for num in range(8):\n",
    "    print(\"attempt\", num,\"th\")\n",
    "\n",
    "    # 설비 num에 맞는 data 가져오기\n",
    "    train_data = train_df[train_df['type'] == num]\n",
    "    test_data = test_df[test_df['type'] == num]\n",
    "    \n",
    "    train_data = train_data[train_data['motor_vibe'] < 10]\n",
    "    \n",
    "    train_data = train_data.drop(['type'], axis = 1)\n",
    "    test_data = test_data.drop(['type'], axis = 1)\n",
    "    \n",
    "    # scale 맞춰주기\n",
    "    scale = StandardScaler()\n",
    "    scale.fit(train_data)\n",
    "    \n",
    "    train_data = scale.transform(train_data)\n",
    "    test_data = scale.transform(test_data)\n",
    "    \n",
    "    ###############################################################\n",
    "    ################### DEEP LEARNING AUTOENCODER #################\n",
    "    \n",
    "    train_dataset = US_Dataset(train_data)\n",
    "    test_dataset = US_Dataset(test_data)\n",
    "    \n",
    "    train_loader = DataLoader(dataset=train_dataset, batch_size=Config['batch_size'], shuffle=True)\n",
    "    test_loader = DataLoader(dataset=test_dataset, batch_size=Config['batch_size'], shuffle=False)\n",
    "    \n",
    "    # 모델 정의\n",
    "    model = AutoEncoder().cuda()\n",
    "    \n",
    "    # L1Loss 사용\n",
    "    loss_func = nn.L1Loss()\n",
    "    \n",
    "    # Adam optimizer 사용\n",
    "    opt = optim.Adam(model.parameters(), lr=Config['learning_rate'])\n",
    "    \n",
    "    start_time = time.time()\n",
    "    \n",
    "    for epoch in range(Config['num_epochs']):\n",
    "        train_loss = train(model, train_loader, opt)\n",
    "    \n",
    "    print('train loss: %.6f, time: %.4f min' %(train_loss, (time.time()-start_time)/60))\n",
    "    print('-'*10)\n",
    "    \n",
    "    # scores = reconstruction error 모음\n",
    "    scores, z = eval(model, train_loader)\n",
    "    \n",
    "    # scores_ = test data의 reconstruction error 모음\n",
    "    scores_, z_ = eval(model, test_loader)\n",
    "    \n",
    "    # Train data (정상 데이터)에서 발견할 수 있는 score의 최댓값인 t를 임계치로 설정\n",
    "    # 정상데이터 관찰할 수 있는 관측치 중 가장 큰 값이므로, 임계치 이하의 값은 \n",
    "    # 정상 데이터일 것이라는 가정\n",
    "    # t 이상의 값은 이상치 데이터일 것이다 (reconstruction error is higher)\n",
    "    t=scores.max()\n",
    "    \n",
    "    # t를 사용해 pred label\n",
    "    test_pred = get_pred_label(scores_, t)\n",
    "    print(Counter(test_pred))\n",
    "    \n",
    "    ###############################################################\n",
    "    ##################### MACHINE LEARNING ABOD ###################\n",
    "    \n",
    "    model = ABOD(n_neighbors=10, contamination=0.0001)\n",
    "    model.fit(train_data)\n",
    "    test_pred_2 = model.predict(test_data)\n",
    "    print(Counter(test_pred_2))\n",
    "    \n",
    "    ## Hard Voting\n",
    "    test_pred_real = []\n",
    "    for i in range(len(test_pred)):\n",
    "        if test_pred[i] == test_pred_2[i]:\n",
    "            test_pred_real.append(test_pred[i])\n",
    "        else:\n",
    "            test_pred_real.append(0)\n",
    "    print(Counter(test_pred_real))\n",
    "    \n",
    "    # 설비 num에 맞는 predict 결과 채워주기\n",
    "    n = 0\n",
    "    for i in range(len(submit)):\n",
    "        if submit.iloc[i]['type'] == num:\n",
    "            submit.iloc[i]['label'] = test_pred_real[n]\n",
    "            n += 1"
   ]
  },
  {
   "cell_type": "code",
   "execution_count": null,
   "id": "88f67a9a-9cb4-44f0-b44d-3b270510cb01",
   "metadata": {},
   "outputs": [],
   "source": [
    "import seaborn as sns\n",
    "import matplotlib.pyplot as plt\n",
    "\n",
    "x = submit['label'].unique()\n",
    "y = submit['label'].value_counts()\n",
    "colors = sns.color_palette(\"pastel\")\n",
    "\n",
    "print(y)\n",
    "\n",
    "fig = plt.figure(figsize=(6, 3))\n",
    "plt.pie(y, labels=x, autopct='%.1f%%', shadow=True, colors=colors, textprops={'fontsize': 12})\n",
    "plt.title('Label')\n",
    "plt.show()"
   ]
  },
  {
   "cell_type": "markdown",
   "id": "ef5adcac-e411-4cb0-a60e-45740097eaa7",
   "metadata": {},
   "source": [
    "## 제출"
   ]
  },
  {
   "cell_type": "code",
   "execution_count": null,
   "id": "5baab949-1e8a-44ed-a7cb-11ab3b23cf38",
   "metadata": {
    "execution": {
     "iopub.execute_input": "2023-04-04T14:17:38.711954Z",
     "iopub.status.busy": "2023-04-04T14:17:38.711732Z",
     "iopub.status.idle": "2023-04-04T14:17:39.016494Z",
     "shell.execute_reply": "2023-04-04T14:17:39.015528Z",
     "shell.execute_reply.started": "2023-04-04T14:17:38.711937Z"
    }
   },
   "outputs": [],
   "source": [
    "submit.to_csv('./submit_13_simpleAE_and_ABOD.csv', index=False)"
   ]
  },
  {
   "attachments": {},
   "cell_type": "markdown",
   "id": "a402d128-cc01-4ee2-8def-5f3efc40e92a",
   "metadata": {},
   "source": [
    "# 참고자료\n",
    "\n",
    "https://sonsnotation.blogspot.com/2020/11/13-anomaly-detection.html\n",
    "\n",
    "https://dacon.io/competitions/official/236036/codeshare/7480?page=1&dtype=recent"
   ]
  },
  {
   "attachments": {},
   "cell_type": "markdown",
   "id": "6626d828-4ad4-498c-87ce-91f9142e8ca6",
   "metadata": {},
   "source": [
    "#### HANNAH 최고!!!!"
   ]
  }
 ],
 "metadata": {
  "kernelspec": {
   "display_name": "Python 3 (ipykernel)",
   "language": "python",
   "name": "python3"
  },
  "language_info": {
   "codemirror_mode": {
    "name": "ipython",
    "version": 3
   },
   "file_extension": ".py",
   "mimetype": "text/x-python",
   "name": "python",
   "nbconvert_exporter": "python",
   "pygments_lexer": "ipython3",
   "version": "3.9.16"
  }
 },
 "nbformat": 4,
 "nbformat_minor": 5
}
